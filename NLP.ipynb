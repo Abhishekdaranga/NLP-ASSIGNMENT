{
 "cells": [
  {
   "cell_type": "code",
   "execution_count": 1,
   "metadata": {},
   "outputs": [
    {
     "name": "stderr",
     "output_type": "stream",
     "text": [
      "[nltk_data] Downloading collection 'popular'\n",
      "[nltk_data]    | \n",
      "[nltk_data]    | Downloading package cmudict to\n",
      "[nltk_data]    |     C:\\Users\\Rajshree\\AppData\\Roaming\\nltk_data...\n",
      "[nltk_data]    |   Unzipping corpora\\cmudict.zip.\n",
      "[nltk_data]    | Downloading package gazetteers to\n",
      "[nltk_data]    |     C:\\Users\\Rajshree\\AppData\\Roaming\\nltk_data...\n",
      "[nltk_data]    |   Unzipping corpora\\gazetteers.zip.\n",
      "[nltk_data]    | Downloading package genesis to\n",
      "[nltk_data]    |     C:\\Users\\Rajshree\\AppData\\Roaming\\nltk_data...\n",
      "[nltk_data]    |   Unzipping corpora\\genesis.zip.\n",
      "[nltk_data]    | Downloading package gutenberg to\n",
      "[nltk_data]    |     C:\\Users\\Rajshree\\AppData\\Roaming\\nltk_data...\n",
      "[nltk_data]    |   Unzipping corpora\\gutenberg.zip.\n",
      "[nltk_data]    | Downloading package inaugural to\n",
      "[nltk_data]    |     C:\\Users\\Rajshree\\AppData\\Roaming\\nltk_data...\n",
      "[nltk_data]    |   Unzipping corpora\\inaugural.zip.\n",
      "[nltk_data]    | Downloading package movie_reviews to\n",
      "[nltk_data]    |     C:\\Users\\Rajshree\\AppData\\Roaming\\nltk_data...\n",
      "[nltk_data]    |   Unzipping corpora\\movie_reviews.zip.\n",
      "[nltk_data]    | Downloading package names to\n",
      "[nltk_data]    |     C:\\Users\\Rajshree\\AppData\\Roaming\\nltk_data...\n",
      "[nltk_data]    |   Unzipping corpora\\names.zip.\n",
      "[nltk_data]    | Downloading package shakespeare to\n",
      "[nltk_data]    |     C:\\Users\\Rajshree\\AppData\\Roaming\\nltk_data...\n",
      "[nltk_data]    |   Unzipping corpora\\shakespeare.zip.\n",
      "[nltk_data]    | Downloading package stopwords to\n",
      "[nltk_data]    |     C:\\Users\\Rajshree\\AppData\\Roaming\\nltk_data...\n",
      "[nltk_data]    |   Unzipping corpora\\stopwords.zip.\n",
      "[nltk_data]    | Downloading package treebank to\n",
      "[nltk_data]    |     C:\\Users\\Rajshree\\AppData\\Roaming\\nltk_data...\n",
      "[nltk_data]    |   Unzipping corpora\\treebank.zip.\n",
      "[nltk_data]    | Downloading package twitter_samples to\n",
      "[nltk_data]    |     C:\\Users\\Rajshree\\AppData\\Roaming\\nltk_data...\n",
      "[nltk_data]    |   Unzipping corpora\\twitter_samples.zip.\n",
      "[nltk_data]    | Downloading package omw to\n",
      "[nltk_data]    |     C:\\Users\\Rajshree\\AppData\\Roaming\\nltk_data...\n",
      "[nltk_data]    |   Unzipping corpora\\omw.zip.\n",
      "[nltk_data]    | Downloading package wordnet to\n",
      "[nltk_data]    |     C:\\Users\\Rajshree\\AppData\\Roaming\\nltk_data...\n",
      "[nltk_data]    |   Unzipping corpora\\wordnet.zip.\n",
      "[nltk_data]    | Downloading package wordnet_ic to\n",
      "[nltk_data]    |     C:\\Users\\Rajshree\\AppData\\Roaming\\nltk_data...\n",
      "[nltk_data]    |   Unzipping corpora\\wordnet_ic.zip.\n",
      "[nltk_data]    | Downloading package words to\n",
      "[nltk_data]    |     C:\\Users\\Rajshree\\AppData\\Roaming\\nltk_data...\n",
      "[nltk_data]    |   Unzipping corpora\\words.zip.\n",
      "[nltk_data]    | Downloading package maxent_ne_chunker to\n",
      "[nltk_data]    |     C:\\Users\\Rajshree\\AppData\\Roaming\\nltk_data...\n",
      "[nltk_data]    |   Unzipping chunkers\\maxent_ne_chunker.zip.\n",
      "[nltk_data]    | Downloading package punkt to\n",
      "[nltk_data]    |     C:\\Users\\Rajshree\\AppData\\Roaming\\nltk_data...\n",
      "[nltk_data]    |   Unzipping tokenizers\\punkt.zip.\n",
      "[nltk_data]    | Downloading package snowball_data to\n",
      "[nltk_data]    |     C:\\Users\\Rajshree\\AppData\\Roaming\\nltk_data...\n",
      "[nltk_data]    | Downloading package averaged_perceptron_tagger to\n",
      "[nltk_data]    |     C:\\Users\\Rajshree\\AppData\\Roaming\\nltk_data...\n",
      "[nltk_data]    |   Unzipping taggers\\averaged_perceptron_tagger.zip.\n",
      "[nltk_data]    | \n",
      "[nltk_data]  Done downloading collection popular\n"
     ]
    },
    {
     "data": {
      "text/plain": [
       "True"
      ]
     },
     "execution_count": 1,
     "metadata": {},
     "output_type": "execute_result"
    }
   ],
   "source": [
    "import nltk\n",
    "nltk.download(\"popular\")"
   ]
  },
  {
   "cell_type": "code",
   "execution_count": 14,
   "metadata": {},
   "outputs": [],
   "source": [
    "data = \"\"\"With that chain on his watch, Jim could look at his watch and\n",
    "learn the time anywhere he might be. Though the watch was so fine,\n",
    "it had never had a fine chain. He sometimes took it out and looked at\n",
    "it only when no one could see him do it.\"\"\"\n"
   ]
  },
  {
   "cell_type": "markdown",
   "metadata": {},
   "source": [
    "# Word_Tokenization"
   ]
  },
  {
   "cell_type": "code",
   "execution_count": 37,
   "metadata": {},
   "outputs": [
    {
     "name": "stdout",
     "output_type": "stream",
     "text": [
      "['With', 'that', 'chain', 'on', 'his', 'watch', ',', 'Jim', 'could', 'look', 'at', 'his', 'watch', 'and', 'learn', 'the', 'time', 'anywhere', 'he', 'might', 'be', '.', 'Though', 'the', 'watch', 'was', 'so', 'fine', ',', 'it', 'had', 'never', 'had', 'a', 'fine', 'chain', '.', 'He', 'sometimes', 'took', 'it', 'out', 'and', 'looked', 'at', 'it', 'only', 'when', 'no', 'one', 'could', 'see', 'him', 'do', 'it', '.']\n"
     ]
    }
   ],
   "source": [
    "from nltk import word_tokenize\n",
    "print(word_tokenize(data))"
   ]
  },
  {
   "cell_type": "markdown",
   "metadata": {},
   "source": [
    "# Punctuation_Tokenization"
   ]
  },
  {
   "cell_type": "code",
   "execution_count": 36,
   "metadata": {},
   "outputs": [
    {
     "name": "stdout",
     "output_type": "stream",
     "text": [
      "['With', 'that', 'chain', 'on', 'his', 'watch', ',', 'Jim', 'could', 'look', 'at', 'his', 'watch', 'and', 'learn', 'the', 'time', 'anywhere', 'he', 'might', 'be', '.', 'Though', 'the', 'watch', 'was', 'so', 'fine', ',', 'it', 'had', 'never', 'had', 'a', 'fine', 'chain', '.', 'He', 'sometimes', 'took', 'it', 'out', 'and', 'looked', 'at', 'it', 'only', 'when', 'no', 'one', 'could', 'see', 'him', 'do', 'it', '.']\n"
     ]
    }
   ],
   "source": [
    "from nltk.tokenize import WordPunctTokenizer\n",
    "print(WordPunctTokenizer().tokenize(data))"
   ]
  },
  {
   "cell_type": "markdown",
   "metadata": {},
   "source": [
    "# Sentence_Tokenization"
   ]
  },
  {
   "cell_type": "code",
   "execution_count": 17,
   "metadata": {},
   "outputs": [
    {
     "name": "stdout",
     "output_type": "stream",
     "text": [
      "['With that chain on his watch, Jim could look at his watch and\\nlearn the time anywhere he might be.', 'Though the watch was so fine,\\nit had never had a fine chain.', 'He sometimes took it out and looked at\\nit only when no one could see him do it.']\n"
     ]
    }
   ],
   "source": [
    "from nltk.tokenize import sent_tokenize\n",
    "print(sent_tokenize(data))\n"
   ]
  },
  {
   "cell_type": "markdown",
   "metadata": {},
   "source": [
    "# Tree-Bank Tokenization"
   ]
  },
  {
   "cell_type": "code",
   "execution_count": 18,
   "metadata": {},
   "outputs": [
    {
     "name": "stdout",
     "output_type": "stream",
     "text": [
      "['With', 'that', 'chain', 'on', 'his', 'watch', ',', 'Jim', 'could', 'look', 'at', 'his', 'watch', 'and', 'learn', 'the', 'time', 'anywhere', 'he', 'might', 'be.', 'Though', 'the', 'watch', 'was', 'so', 'fine', ',', 'it', 'had', 'never', 'had', 'a', 'fine', 'chain.', 'He', 'sometimes', 'took', 'it', 'out', 'and', 'looked', 'at', 'it', 'only', 'when', 'no', 'one', 'could', 'see', 'him', 'do', 'it', '.']\n"
     ]
    }
   ],
   "source": [
    "from nltk.tokenize import TreebankWordTokenizer \n",
    "  \n",
    "tokenizer = TreebankWordTokenizer() \n",
    "print(tokenizer.tokenize(data))"
   ]
  },
  {
   "cell_type": "markdown",
   "metadata": {},
   "source": [
    "# WhiteSpace"
   ]
  },
  {
   "cell_type": "code",
   "execution_count": 20,
   "metadata": {},
   "outputs": [
    {
     "name": "stdout",
     "output_type": "stream",
     "text": [
      "['With', 'that', 'chain', 'on', 'his', 'watch,', 'Jim', 'could', 'look', 'at', 'his', 'watch', 'and\\nlearn', 'the', 'time', 'anywhere', 'he', 'might', 'be.', 'Though', 'the', 'watch', 'was', 'so', 'fine,\\nit', 'had', 'never', 'had', 'a', 'fine', 'chain.', 'He', 'sometimes', 'took', 'it', 'out', 'and', 'looked', 'at\\nit', 'only', 'when', 'no', 'one', 'could', 'see', 'him', 'do', 'it.']\n"
     ]
    }
   ],
   "source": [
    "from nltk import SpaceTokenizer\n",
    "\n",
    "print(SpaceTokenizer().tokenize(data))"
   ]
  },
  {
   "cell_type": "markdown",
   "metadata": {},
   "source": [
    "# Stop words"
   ]
  },
  {
   "cell_type": "code",
   "execution_count": 26,
   "metadata": {},
   "outputs": [
    {
     "name": "stdout",
     "output_type": "stream",
     "text": [
      "StopWords:   ['Jack', 'and', 'Jill', 'went', 'up', 'the', 'hill']\n",
      "No StopWords:   ['Jack', 'Jill', 'went', 'hill']\n"
     ]
    }
   ],
   "source": [
    "from nltk.corpus import stopwords\n",
    "from nltk.tokenize import word_tokenize\n",
    "\n",
    "ex= \"\"\"Jack and Jill went up the hill\"\"\"\n",
    "\n",
    "tokens = word_tokenize(ex)\n",
    "\n",
    "filter = [w for w in tokens if not w in stopwords.words('english')]\n",
    "\n",
    "print(\"StopWords:  \", tokens)\n",
    "print(\"No StopWords:  \", filter)\n"
   ]
  },
  {
   "cell_type": "markdown",
   "metadata": {},
   "source": [
    "# Stemming"
   ]
  },
  {
   "cell_type": "code",
   "execution_count": 33,
   "metadata": {},
   "outputs": [
    {
     "name": "stdout",
     "output_type": "stream",
     "text": [
      "Actual:  With that chain on his watch , Jim could look at his watch and learn the time anywhere he might be . Though the watch was so fine , it had never had a fine chain . He sometimes took it out and looked at it only when no one could see him do it . \n",
      "Stem:  with that chain on hi watch , jim could look at hi watch and learn the time anywher he might be . though the watch wa so fine , it had never had a fine chain . He sometim took it out and look at it onli when no one could see him do it . "
     ]
    }
   ],
   "source": [
    "import nltk\n",
    "from nltk.stem.porter import PorterStemmer\n",
    "stemmer = PorterStemmer()\n",
    "tokens = nltk.word_tokenize(data)\n",
    "print(\"Actual: \", end = \" \")\n",
    "for w in tokens:\n",
    "    print(\"%s\"%w, end = \" \")\n",
    "print()\n",
    "print(\"Stem: \", end = \" \")\n",
    "for w in tokens:\n",
    "    print(\"%s\"  % stemmer.stem(w), end = \" \")"
   ]
  },
  {
   "cell_type": "markdown",
   "metadata": {},
   "source": [
    "# lemmatization"
   ]
  },
  {
   "cell_type": "code",
   "execution_count": 24,
   "metadata": {},
   "outputs": [
    {
     "name": "stdout",
     "output_type": "stream",
     "text": [
      "Actual: With ,  Lemma: With\n",
      "Actual: that ,  Lemma: that\n",
      "Actual: chain ,  Lemma: chain\n",
      "Actual: on ,  Lemma: on\n",
      "Actual: his ,  Lemma: his\n",
      "Actual: watch ,  Lemma: watch\n",
      "Actual: , ,  Lemma: ,\n",
      "Actual: Jim ,  Lemma: Jim\n",
      "Actual: could ,  Lemma: could\n",
      "Actual: look ,  Lemma: look\n",
      "Actual: at ,  Lemma: at\n",
      "Actual: his ,  Lemma: his\n",
      "Actual: watch ,  Lemma: watch\n",
      "Actual: and ,  Lemma: and\n",
      "Actual: learn ,  Lemma: learn\n",
      "Actual: the ,  Lemma: the\n",
      "Actual: time ,  Lemma: time\n",
      "Actual: anywhere ,  Lemma: anywhere\n",
      "Actual: he ,  Lemma: he\n",
      "Actual: might ,  Lemma: might\n",
      "Actual: be ,  Lemma: be\n",
      "Actual: . ,  Lemma: .\n",
      "Actual: Though ,  Lemma: Though\n",
      "Actual: the ,  Lemma: the\n",
      "Actual: watch ,  Lemma: watch\n",
      "Actual: was ,  Lemma: wa\n",
      "Actual: so ,  Lemma: so\n",
      "Actual: fine ,  Lemma: fine\n",
      "Actual: , ,  Lemma: ,\n",
      "Actual: it ,  Lemma: it\n",
      "Actual: had ,  Lemma: had\n",
      "Actual: never ,  Lemma: never\n",
      "Actual: had ,  Lemma: had\n",
      "Actual: a ,  Lemma: a\n",
      "Actual: fine ,  Lemma: fine\n",
      "Actual: chain ,  Lemma: chain\n",
      "Actual: . ,  Lemma: .\n",
      "Actual: He ,  Lemma: He\n",
      "Actual: sometimes ,  Lemma: sometimes\n",
      "Actual: took ,  Lemma: took\n",
      "Actual: it ,  Lemma: it\n",
      "Actual: out ,  Lemma: out\n",
      "Actual: and ,  Lemma: and\n",
      "Actual: looked ,  Lemma: looked\n",
      "Actual: at ,  Lemma: at\n",
      "Actual: it ,  Lemma: it\n",
      "Actual: only ,  Lemma: only\n",
      "Actual: when ,  Lemma: when\n",
      "Actual: no ,  Lemma: no\n",
      "Actual: one ,  Lemma: one\n",
      "Actual: could ,  Lemma: could\n",
      "Actual: see ,  Lemma: see\n",
      "Actual: him ,  Lemma: him\n",
      "Actual: do ,  Lemma: do\n",
      "Actual: it ,  Lemma: it\n",
      "Actual: . ,  Lemma: .\n"
     ]
    }
   ],
   "source": [
    "import nltk\n",
    "from nltk.stem import WordNetLemmatizer\n",
    "lemma = WordNetLemmatizer()\n",
    "tokens = nltk.word_tokenize(data)\n",
    "for w in tokens:\n",
    "    print(\"Actual: %s ,  Lemma: %s\"  % (w, lemma.lemmatize(w)))\n"
   ]
  },
  {
   "cell_type": "code",
   "execution_count": null,
   "metadata": {},
   "outputs": [],
   "source": []
  }
 ],
 "metadata": {
  "kernelspec": {
   "display_name": "Python 3",
   "language": "python",
   "name": "python3"
  },
  "language_info": {
   "codemirror_mode": {
    "name": "ipython",
    "version": 3
   },
   "file_extension": ".py",
   "mimetype": "text/x-python",
   "name": "python",
   "nbconvert_exporter": "python",
   "pygments_lexer": "ipython3",
   "version": "3.6.9"
  }
 },
 "nbformat": 4,
 "nbformat_minor": 2
}
